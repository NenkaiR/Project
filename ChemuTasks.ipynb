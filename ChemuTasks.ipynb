{
 "cells": [
  {
   "cell_type": "code",
   "execution_count": 11,
   "id": "a5b40840-7ef3-401e-a1b6-c038065bab65",
   "metadata": {
    "tags": []
   },
   "outputs": [],
   "source": [
    "def add_task():\n",
    "    task_name = input(\"Enter the task name: \")\n",
    "    tasks.append({\"name\": task_name, \"completed\": False})\n",
    "    print(\"Task added successfully!\")\n"
   ]
  },
  {
   "cell_type": "code",
   "execution_count": 12,
   "id": "bb7fffa4-51af-4887-97cc-5704988c5833",
   "metadata": {
    "tags": []
   },
   "outputs": [],
   "source": [
    "def mark_completed():\n",
    "    list_tasks()\n",
    "    task_index = int(input(\"Enter the index of the task to mark as completed: \"))\n",
    "    if 0 <= task_index < len(tasks):\n",
    "        tasks[task_index][\"completed\"] = True\n",
    "        print(\"Task marked as completed!\")\n",
    "    else:\n",
    "        print(\"Invalid task index.\")"
   ]
  },
  {
   "cell_type": "code",
   "execution_count": 13,
   "id": "a7274ec0-9277-4df2-80e9-9e05af65af8d",
   "metadata": {},
   "outputs": [],
   "source": [
    "def list_tasks():\n",
    "    print(\"Tasks:\")\n",
    "    for index in range(len(tasks)):\n",
    "        task = tasks[index]\n",
    "        status = \"completed\" if task[\"completed\"] else \"Not Completed\"\n",
    "        print(f\"{index}. {task['name']} - {status}\")"
   ]
  },
  {
   "cell_type": "code",
   "execution_count": 14,
   "id": "f805d2ee-f47b-47ec-ad50-794d46afefec",
   "metadata": {},
   "outputs": [],
   "source": [
    "def remove_task():\n",
    "    list_tasks()\n",
    "    task_index = int(input(\"Enter the index of the task to remove: \"))\n",
    "    if 0 <= task_index < len(tasks):\n",
    "        removed_task = tasks.pop(task_index)\n",
    "        print(f\"Task '{removed_task['name']}' removed successfully!\")\n",
    "    else:\n",
    "        print(\"Invalid task index.\")"
   ]
  },
  {
   "cell_type": "code",
   "execution_count": 15,
   "id": "5bfb0e1e-d008-4045-ba4c-31709905725d",
   "metadata": {
    "tags": []
   },
   "outputs": [],
   "source": [
    "def welcome_menu():\n",
    "    print(\"Welcome to Chemu's Task Manager!\")\n",
    "    print(\"Please press the following for Available Actions:\")\n",
    "    print(\"1. to Add Task\")\n",
    "    print(\"2. to Mark Task as Completed\")\n",
    "    print(\"3. to List Tasks\")\n",
    "    print(\"4. to Remove Task\")\n",
    "    print(\"5. Quit\")"
   ]
  },
  {
   "cell_type": "code",
   "execution_count": null,
   "id": "029a9282-45c1-486a-9ffc-7a840f3d055e",
   "metadata": {
    "tags": []
   },
   "outputs": [
    {
     "name": "stdout",
     "output_type": "stream",
     "text": [
      "Welcome to Chemu's Task Manager!\n",
      "Please press the following for Available Actions:\n",
      "1. to Add Task\n",
      "2. to Mark Task as Completed\n",
      "3. to List Tasks\n",
      "4. to Remove Task\n",
      "5. Quit\n"
     ]
    },
    {
     "name": "stdin",
     "output_type": "stream",
     "text": [
      "Enter your choice:  1\n"
     ]
    }
   ],
   "source": [
    "tasks = [] \n",
    "while True:\n",
    "    welcome_menu()\n",
    "    choice = input(\"Enter your choice: \")\n",
    "        \n",
    "    if choice == \"1\":\n",
    "        add_task()\n",
    "    elif choice == \"2\":\n",
    "        mark_completed()\n",
    "    elif choice == \"3\":\n",
    "        list_tasks()\n",
    "    elif choice == \"4\":\n",
    "        remove_task()\n",
    "    elif choice == \"5\":\n",
    "        print(\"Goodbye!\")\n",
    "        break\n",
    "    else:\n",
    "        print(\"Invalid choice. Please choose a valid option.\")"
   ]
  },
  {
   "cell_type": "code",
   "execution_count": null,
   "id": "78345186-796e-4845-95ba-872fac96bab7",
   "metadata": {},
   "outputs": [],
   "source": []
  }
 ],
 "metadata": {
  "kernelspec": {
   "display_name": "Python 3 (ipykernel)",
   "language": "python",
   "name": "python3"
  },
  "language_info": {
   "codemirror_mode": {
    "name": "ipython",
    "version": 3
   },
   "file_extension": ".py",
   "mimetype": "text/x-python",
   "name": "python",
   "nbconvert_exporter": "python",
   "pygments_lexer": "ipython3",
   "version": "3.11.3"
  }
 },
 "nbformat": 4,
 "nbformat_minor": 5
}
